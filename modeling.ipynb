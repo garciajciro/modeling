{
  "nbformat": 4,
  "nbformat_minor": 0,
  "metadata": {
    "colab": {
      "name": "modeling.ipynb",
      "provenance": [],
      "collapsed_sections": [],
      "include_colab_link": true
    },
    "kernelspec": {
      "name": "python3",
      "display_name": "Python 3"
    },
    "language_info": {
      "name": "python"
    }
  },
  "cells": [
    {
      "cell_type": "markdown",
      "metadata": {
        "id": "view-in-github",
        "colab_type": "text"
      },
      "source": [
        "<a href=\"https://colab.research.google.com/github/garciajciro/modeling/blob/main/modeling.ipynb\" target=\"_parent\"><img src=\"https://colab.research.google.com/assets/colab-badge.svg\" alt=\"Open In Colab\"/></a>"
      ]
    },
    {
      "cell_type": "markdown",
      "source": [
        "# Create the City"
      ],
      "metadata": {
        "id": "ZqB_YCtLKqVM"
      }
    },
    {
      "cell_type": "code",
      "source": [
        "#copy and paste to a txt file named \"AdjList_emergency_Facilities (1).txt\"\n",
        "#Make sure there aren't any empty new lines\n",
        "#This is the adjancecy list for the 1986: The Emergency-Facilities Location Problem\n",
        "66 115\n",
        "1 2 20\n",
        "2 3 20\n",
        "3 4 20\n",
        "4 5 20\n",
        "5 6 20\n",
        "7 8 20\n",
        "8 9 20\n",
        "9 10 20\n",
        "10 11 20\n",
        "11 12 20\n",
        "13 14 20\n",
        "14 15 20\n",
        "15 16 20\n",
        "16 17 20\n",
        "17 18 20 \n",
        "19 20 20 \n",
        "20 21 20\n",
        "21 22 20\n",
        "22 23 20\n",
        "23 24 20\n",
        "25 26 20\n",
        "26 27 20\n",
        "27 28 20 \n",
        "28 29 20 \n",
        "29 30 20 \n",
        "31 32 20\n",
        "32 33 20 \n",
        "33 34 20\n",
        "34 35 20\n",
        "35 36 20\n",
        "37 38 20 \n",
        "38 39 20\n",
        "39 30 20 \n",
        "40 41 20\n",
        "41 42 20\n",
        "43 44 20\n",
        "44 45 20\n",
        "45 46 20\n",
        "46 47 20\n",
        "47 48 20\n",
        "49 50 20 \n",
        "50 51 20\n",
        "51 52 20\n",
        "52 53 20 \n",
        "53 54 20\n",
        "55 56 20 \n",
        "56 57 20 \n",
        "57 58 20 \n",
        "58 59 20 \n",
        "59 60 20 \n",
        "61 62 20\n",
        "62 63 20\n",
        "63 64 20\n",
        "64 65 20 \n",
        "65 66 20\n",
        "1 7 15\n",
        "7 13 15\n",
        "13 19 15 \n",
        "19 25 15 \n",
        "31 37 15 \n",
        "37 43 15\n",
        "43 49 15\n",
        "49 55 15\n",
        "55 61 15\n",
        "2 8 15 \n",
        "8 14 15 \n",
        "14 20 15 \n",
        "20 26 15 \n",
        "26 32 15\n",
        "32 38 15\n",
        "38 44 15\n",
        "44 50 15\n",
        "50 56 15\n",
        "56 62 15\n",
        "3 9 15\n",
        "9 15 15\n",
        "15 21 15\n",
        "21 27 15 \n",
        "27 33 15\n",
        "33 39 15\n",
        "39 45 15\n",
        "45 51 15 \n",
        "51 57 15 \n",
        "57 63 15 \n",
        "4 10 15 \n",
        "10 16 15\n",
        "16 22 15\n",
        "22 28 15 \n",
        "28 34 15 \n",
        "34 40 15 \n",
        "40 46 15\n",
        "46 52 15\n",
        "52 58 15 \n",
        "58 64 15 \n",
        "5 11 15\n",
        "11 17 15 \n",
        "17 23 15\n",
        "23 29 15 \n",
        "29 35 15\n",
        "35 41 15 \n",
        "41 47 15 \n",
        "47 53 15\n",
        "53 59 15 \n",
        "59 65 15 \n",
        "6 12 15 \n",
        "12 18 15 \n",
        "18 24 15\n",
        "24 30 15 \n",
        "30 36 15\n",
        "36 42 15\n",
        "42 48 15 \n",
        "48 54 15\n",
        "54 60 15 \n",
        "60 66 15"
      ],
      "metadata": {
        "id": "q52JmsGziO4d",
        "colab": {
          "base_uri": "https://localhost:8080/",
          "height": 133
        },
        "outputId": "bcc6830d-3b44-4333-9ef4-084fd599359c"
      },
      "execution_count": 2,
      "outputs": [
        {
          "output_type": "error",
          "ename": "SyntaxError",
          "evalue": "ignored",
          "traceback": [
            "\u001b[0;36m  File \u001b[0;32m\"<ipython-input-2-d4c76d0f76b2>\"\u001b[0;36m, line \u001b[0;32m3\u001b[0m\n\u001b[0;31m    66 115\u001b[0m\n\u001b[0m         ^\u001b[0m\n\u001b[0;31mSyntaxError\u001b[0m\u001b[0;31m:\u001b[0m invalid syntax\n"
          ]
        }
      ]
    },
    {
      "cell_type": "code",
      "source": [
        "from google.colab import drive\n",
        "drive.mount('/content/drive')"
      ],
      "metadata": {
        "id": "mXDvpXWauqO0"
      },
      "execution_count": null,
      "outputs": []
    },
    {
      "cell_type": "markdown",
      "source": [
        "# Find the Shortest Path "
      ],
      "metadata": {
        "id": "1ZPOtq4qK7xl"
      }
    },
    {
      "cell_type": "markdown",
      "source": [
        "## Shortest Path Algorithm"
      ],
      "metadata": {
        "id": "6KoNHTPkLEcj"
      }
    },
    {
      "cell_type": "code",
      "source": [
        " #Create adjacency matrix (from https://linuxtut.com/en/2a327fe021fb7dafe07a/)\n",
        "\n",
        "# Open the txt file which shouldn't have any empty lines\n",
        "with open(\"AdjList_emergency_Facilities (1).txt\", \"r\") as l:\n",
        "  # read the first line to the the n and m. First line should have 2 numbers\n",
        "  n, m = map(int, l.readline().split())\n",
        "  \n",
        "  # Go through every line and get the numbers. Put in a list inside a list\n",
        "  s = [list(map(int, l.readline().split())) for _ in range(m)]\n",
        "\n",
        "adjacencyMatrix = [[0]*n for _ in range(n)]\n",
        "\n",
        "for v in s:\n",
        "  if v != []:\n",
        "    adjacencyMatrix[v[0]-1][v[1]-1] = v[2]  #Here is changing\n",
        "    adjacencyMatrix[v[1]-1][v[0]-1] = v[2]  #Erase if it is a directed graph\n",
        " \n",
        "print(s)\n",
        "print(adjacencyMatrix)  # [[0, 1, 1, 0, 1], ..., [1, 0, 1, 0, 0]]\n",
        "\n"
      ],
      "metadata": {
        "id": "C7kmKMr6p3yU"
      },
      "execution_count": null,
      "outputs": []
    },
    {
      "cell_type": "code",
      "source": [
        "# From https://www.geeksforgeeks.org/python-program-for-dijkstras-shortest-path-algorithm-greedy-algo-7/\n",
        "# Python program for Dijkstra's single\n",
        "# source shortest path algorithm. The program is\n",
        "# for adjacency matrix representation of the graph\n",
        "class Graph():\n",
        "\n",
        "\tdef __init__(self, vertices):\n",
        "\t\tself.V = vertices\n",
        "\t\tself.graph = [[0 for column in range(vertices)]\n",
        "\t\t\t\t\tfor row in range(vertices)]\n",
        "\n",
        "\tdef printSolution(self, dist):\n",
        "\t\twith open(\"outputSources.txt\", \"a\") as f:\n",
        "\n",
        "\t\t\tf.write(\"Vertex \\t Distance from Source\\n\")\n",
        "\t\t\tfor node in range(self.V):\n",
        "\t\t\t\tf.write(f\"{node} \\t\\t\\t {dist[node]}\\n\")\n",
        "\n",
        "\t# A utility function to find the vertex with\n",
        "\t# minimum distance value, from the set of vertices\n",
        "\t# not yet included in shortest path tree\n",
        "\tdef minDistance(self, dist, sptSet):\n",
        "\n",
        "\t\t# Initialize minimum distance for next node\n",
        "\t\tmin = 1e7\n",
        "\n",
        "\t\t# Search not nearest vertex not in the\n",
        "\t\t# shortest path tree\n",
        "\t\tfor v in range(self.V):\n",
        "\t\t\tif dist[v] < min and sptSet[v] == False:\n",
        "\t\t\t\tmin = dist[v]\n",
        "\t\t\t\tmin_index = v\n",
        "\n",
        "\t\treturn min_index\n",
        "\n",
        "\t# Function that implements Dijkstra's single source\n",
        "\t# shortest path algorithm for a graph represented\n",
        "\t# using adjacency matrix representation\n",
        "\tdef dijkstra(self, src):\n",
        "\n",
        "\t\tdist = [1e7] * self.V\n",
        "\t\tdist[src] = 0\n",
        "\t\tsptSet = [False] * self.V\n",
        "\n",
        "\t\tfor cout in range(self.V):\n",
        "\n",
        "\t\t\t# Pick the minimum distance vertex from\n",
        "\t\t\t# the set of vertices not yet processed.\n",
        "\t\t\t# u is always equal to src in first iteration\n",
        "\t\t\tu = self.minDistance(dist, sptSet)\n",
        "\n",
        "\t\t\t# Put the minimum distance vertex in the\n",
        "\t\t\t# shortest path tree\n",
        "\t\t\tsptSet[u] = True\n",
        "\n",
        "\t\t\t# Update dist value of the adjacent vertices\n",
        "\t\t\t# of the picked vertex only if the current\n",
        "\t\t\t# distance is greater than new distance and\n",
        "\t\t\t# the vertex in not in the shortest path tree\n",
        "\t\t\tfor v in range(self.V):\n",
        "\t\t\t\tif (self.graph[u][v] > 0 and\n",
        "\t\t\t\tsptSet[v] == False and\n",
        "\t\t\t\tdist[v] > dist[u] + self.graph[u][v]):\n",
        "\t\t\t\t\tdist[v] = dist[u] + self.graph[u][v]\n",
        "\n",
        "\t\tself.printSolution(dist)\n",
        "\n",
        "# Driver program\n",
        "print(adjacencyMatrix)\n",
        "g = Graph(66)\n",
        "g.graph = adjacencyMatrix\n",
        "\n",
        "#This creates various adjacency Matrix from all the sources\n",
        "#In the adjancecy Matrix\n",
        "for n in range(66):\n",
        "\n",
        "\tg.dijkstra(n)\n",
        "\n",
        "#This creates a file that has\n",
        "#The distance from the source to the other nodes\n",
        "#Every time that the code is re-run the previous\n",
        "#outputSources file should be deleted\n",
        "\n",
        "\n",
        "\n",
        "# This code is contributed by Divyanshu Mehta\n",
        "\n"
      ],
      "metadata": {
        "id": "VK54qmekLGtc"
      },
      "execution_count": null,
      "outputs": []
    }
  ]
}